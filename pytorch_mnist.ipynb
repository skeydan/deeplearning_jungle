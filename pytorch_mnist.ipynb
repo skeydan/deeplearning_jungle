{
 "cells": [
  {
   "cell_type": "code",
   "execution_count": 1,
   "metadata": {
    "collapsed": true
   },
   "outputs": [],
   "source": [
    "import torch\n",
    "import torch.nn as nn\n",
    "import torch.nn.functional as F\n",
    "import torch.optim as optim\n",
    "from torchvision import datasets, transforms\n",
    "from torch.autograd import Variable"
   ]
  },
  {
   "cell_type": "code",
   "execution_count": 2,
   "metadata": {},
   "outputs": [],
   "source": [
    "train_loader = torch.utils.data.DataLoader(\n",
    "    datasets.MNIST('../data', train=True, download=True,\n",
    "                   transform=transforms.Compose([\n",
    "                       transforms.ToTensor(),\n",
    "                       transforms.Normalize((0.1307,), (0.3081,))\n",
    "                   ])),\n",
    "    batch_size=100, shuffle=True)\n",
    "test_loader = torch.utils.data.DataLoader(\n",
    "    datasets.MNIST('../data', train=False, transform=transforms.Compose([\n",
    "                       transforms.ToTensor(),\n",
    "                       transforms.Normalize((0.1307,), (0.3081,))\n",
    "                   ])),\n",
    "batch_size=1, shuffle=True)"
   ]
  },
  {
   "cell_type": "code",
   "execution_count": 3,
   "metadata": {
    "collapsed": true
   },
   "outputs": [],
   "source": [
    "class Net(nn.Module):\n",
    "    def __init__(self):\n",
    "        super(Net, self).__init__()\n",
    "        self.conv1 = nn.Conv2d(1, 10, kernel_size=5)\n",
    "        self.conv2 = nn.Conv2d(10, 20, kernel_size=5)\n",
    "        self.conv2_drop = nn.Dropout2d()\n",
    "        self.fc1 = nn.Linear(320, 50)\n",
    "        self.fc2 = nn.Linear(50, 10)\n",
    "\n",
    "    def forward(self, x):\n",
    "        x = F.relu(F.max_pool2d(self.conv1(x), 2))\n",
    "        x = F.relu(F.max_pool2d(self.conv2_drop(self.conv2(x)), 2))\n",
    "        x = x.view(-1, 320)\n",
    "        x = F.relu(self.fc1(x))\n",
    "        x = F.dropout(x, training=self.training)\n",
    "        x = self.fc2(x)\n",
    "        return F.log_softmax(x)"
   ]
  },
  {
   "cell_type": "code",
   "execution_count": 4,
   "metadata": {
    "collapsed": true
   },
   "outputs": [],
   "source": [
    "model = Net()\n",
    "optimizer = optim.Adam(model.parameters(), lr=0.001)"
   ]
  },
  {
   "cell_type": "code",
   "execution_count": 5,
   "metadata": {
    "collapsed": true
   },
   "outputs": [],
   "source": [
    "def train(epoch):\n",
    "    \n",
    "    model.train()\n",
    "    \n",
    "    for batch_idx, (data, target) in enumerate(train_loader):\n",
    "        \n",
    "        data, target = Variable(data), Variable(target)\n",
    "        optimizer.zero_grad()\n",
    "        # forward pass\n",
    "        # here we could do different things on each pass...\n",
    "        output = model(data)\n",
    "        \n",
    "        loss = F.nll_loss(output, target)\n",
    "        # backward pass\n",
    "        loss.backward()\n",
    "        optimizer.step()\n",
    "        \n",
    "        if batch_idx % 100 == 0:\n",
    "            print('Train Epoch: {} [{}/{} ({:.0f}%)]\\tLoss: {:.6f}'.format(\n",
    "                epoch, batch_idx * len(data), len(train_loader.dataset),\n",
    "                100. * batch_idx / len(train_loader), loss.data[0]))"
   ]
  },
  {
   "cell_type": "code",
   "execution_count": 6,
   "metadata": {
    "collapsed": true
   },
   "outputs": [],
   "source": [
    "def test():\n",
    "    \n",
    "    model.eval()\n",
    "    \n",
    "    test_loss = 0\n",
    "    correct = 0\n",
    "    for data, target in test_loader:\n",
    "        data, target = Variable(data, volatile=True), Variable(target)\n",
    "        output = model(data)\n",
    "        test_loss += F.nll_loss(output, target, size_average=False).data[0] # sum up batch loss\n",
    "        pred = output.data.max(1)[1] # get the index of the max log-probability\n",
    "        correct += pred.eq(target.data.view_as(pred)).sum()\n",
    "\n",
    "    test_loss /= len(test_loader.dataset)\n",
    "    \n",
    "    print('\\nTest set: Average loss: {:.4f}, Accuracy: {}/{} ({:.0f}%)\\n'.format(test_loss, correct, len(test_loader.dataset),\n",
    "100. * correct / len(test_loader.dataset)))"
   ]
  },
  {
   "cell_type": "code",
   "execution_count": 7,
   "metadata": {},
   "outputs": [
    {
     "name": "stdout",
     "output_type": "stream",
     "text": [
      "Train Epoch: 1 [0/60000 (0%)]\tLoss: 2.359755\n",
      "Train Epoch: 1 [10000/60000 (17%)]\tLoss: 0.631291\n",
      "Train Epoch: 1 [20000/60000 (33%)]\tLoss: 0.551744\n",
      "Train Epoch: 1 [30000/60000 (50%)]\tLoss: 0.529495\n",
      "Train Epoch: 1 [40000/60000 (67%)]\tLoss: 0.466105\n",
      "Train Epoch: 1 [50000/60000 (83%)]\tLoss: 0.335197\n",
      "Train Epoch: 2 [0/60000 (0%)]\tLoss: 0.324826\n",
      "Train Epoch: 2 [10000/60000 (17%)]\tLoss: 0.295385\n",
      "Train Epoch: 2 [20000/60000 (33%)]\tLoss: 0.380579\n",
      "Train Epoch: 2 [30000/60000 (50%)]\tLoss: 0.251249\n",
      "Train Epoch: 2 [40000/60000 (67%)]\tLoss: 0.180389\n",
      "Train Epoch: 2 [50000/60000 (83%)]\tLoss: 0.180578\n",
      "Train Epoch: 3 [0/60000 (0%)]\tLoss: 0.203153\n",
      "Train Epoch: 3 [10000/60000 (17%)]\tLoss: 0.204562\n",
      "Train Epoch: 3 [20000/60000 (33%)]\tLoss: 0.316000\n",
      "Train Epoch: 3 [30000/60000 (50%)]\tLoss: 0.274162\n",
      "Train Epoch: 3 [40000/60000 (67%)]\tLoss: 0.204789\n",
      "Train Epoch: 3 [50000/60000 (83%)]\tLoss: 0.303423\n",
      "Train Epoch: 4 [0/60000 (0%)]\tLoss: 0.180434\n",
      "Train Epoch: 4 [10000/60000 (17%)]\tLoss: 0.168273\n",
      "Train Epoch: 4 [20000/60000 (33%)]\tLoss: 0.372838\n",
      "Train Epoch: 4 [30000/60000 (50%)]\tLoss: 0.138203\n",
      "Train Epoch: 4 [40000/60000 (67%)]\tLoss: 0.150459\n",
      "Train Epoch: 4 [50000/60000 (83%)]\tLoss: 0.310629\n",
      "Train Epoch: 5 [0/60000 (0%)]\tLoss: 0.240911\n",
      "Train Epoch: 5 [10000/60000 (17%)]\tLoss: 0.167051\n",
      "Train Epoch: 5 [20000/60000 (33%)]\tLoss: 0.133991\n",
      "Train Epoch: 5 [30000/60000 (50%)]\tLoss: 0.144581\n",
      "Train Epoch: 5 [40000/60000 (67%)]\tLoss: 0.245308\n",
      "Train Epoch: 5 [50000/60000 (83%)]\tLoss: 0.188519\n",
      "Train Epoch: 6 [0/60000 (0%)]\tLoss: 0.098288\n",
      "Train Epoch: 6 [10000/60000 (17%)]\tLoss: 0.237861\n",
      "Train Epoch: 6 [20000/60000 (33%)]\tLoss: 0.120803\n",
      "Train Epoch: 6 [30000/60000 (50%)]\tLoss: 0.098781\n",
      "Train Epoch: 6 [40000/60000 (67%)]\tLoss: 0.128540\n",
      "Train Epoch: 6 [50000/60000 (83%)]\tLoss: 0.171806\n",
      "Train Epoch: 7 [0/60000 (0%)]\tLoss: 0.092285\n",
      "Train Epoch: 7 [10000/60000 (17%)]\tLoss: 0.183279\n",
      "Train Epoch: 7 [20000/60000 (33%)]\tLoss: 0.271237\n",
      "Train Epoch: 7 [30000/60000 (50%)]\tLoss: 0.112551\n",
      "Train Epoch: 7 [40000/60000 (67%)]\tLoss: 0.194522\n",
      "Train Epoch: 7 [50000/60000 (83%)]\tLoss: 0.123451\n",
      "Train Epoch: 8 [0/60000 (0%)]\tLoss: 0.210976\n",
      "Train Epoch: 8 [10000/60000 (17%)]\tLoss: 0.206426\n",
      "Train Epoch: 8 [20000/60000 (33%)]\tLoss: 0.144382\n",
      "Train Epoch: 8 [30000/60000 (50%)]\tLoss: 0.173559\n",
      "Train Epoch: 8 [40000/60000 (67%)]\tLoss: 0.314006\n",
      "Train Epoch: 8 [50000/60000 (83%)]\tLoss: 0.218075\n",
      "Train Epoch: 9 [0/60000 (0%)]\tLoss: 0.106430\n",
      "Train Epoch: 9 [10000/60000 (17%)]\tLoss: 0.195984\n",
      "Train Epoch: 9 [20000/60000 (33%)]\tLoss: 0.096871\n",
      "Train Epoch: 9 [30000/60000 (50%)]\tLoss: 0.144917\n",
      "Train Epoch: 9 [40000/60000 (67%)]\tLoss: 0.186299\n",
      "Train Epoch: 9 [50000/60000 (83%)]\tLoss: 0.220644\n"
     ]
    }
   ],
   "source": [
    "for epoch in range(1, 10):\n",
    "    train(epoch)"
   ]
  },
  {
   "cell_type": "code",
   "execution_count": 8,
   "metadata": {},
   "outputs": [
    {
     "name": "stdout",
     "output_type": "stream",
     "text": [
      "\n",
      "Test set: Average loss: 0.0417, Accuracy: 9864/10000 (99%)\n",
      "\n"
     ]
    }
   ],
   "source": [
    "test()"
   ]
  },
  {
   "cell_type": "code",
   "execution_count": null,
   "metadata": {
    "collapsed": true
   },
   "outputs": [],
   "source": []
  }
 ],
 "metadata": {
  "kernelspec": {
   "display_name": "Python 3",
   "language": "python",
   "name": "python3"
  },
  "language_info": {
   "codemirror_mode": {
    "name": "ipython",
    "version": 3
   },
   "file_extension": ".py",
   "mimetype": "text/x-python",
   "name": "python",
   "nbconvert_exporter": "python",
   "pygments_lexer": "ipython3",
   "version": "3.6.1"
  }
 },
 "nbformat": 4,
 "nbformat_minor": 2
}
