{
 "cells": [
  {
   "cell_type": "code",
   "execution_count": 1,
   "metadata": {
    "collapsed": true
   },
   "outputs": [],
   "source": [
    "import torch\n",
    "import torch.nn as nn\n",
    "import torch.nn.functional as F\n",
    "import torch.optim as optim\n",
    "from torchvision import datasets, transforms\n",
    "from torch.autograd import Variable"
   ]
  },
  {
   "cell_type": "code",
   "execution_count": 3,
   "metadata": {},
   "outputs": [],
   "source": [
    "train_loader = torch.utils.data.DataLoader(\n",
    "    datasets.MNIST('../data', train=True, download=True,\n",
    "                   transform=transforms.Compose([\n",
    "                       transforms.ToTensor(),\n",
    "                       transforms.Normalize((0.1307,), (0.3081,))\n",
    "                   ])),\n",
    "    batch_size=100, shuffle=True)\n",
    "test_loader = torch.utils.data.DataLoader(\n",
    "    datasets.MNIST('../data', train=False, transform=transforms.Compose([\n",
    "                       transforms.ToTensor(),\n",
    "                       transforms.Normalize((0.1307,), (0.3081,))\n",
    "                   ])),\n",
    "batch_size=1, shuffle=True)"
   ]
  },
  {
   "cell_type": "code",
   "execution_count": 5,
   "metadata": {},
   "outputs": [],
   "source": [
    "class Net(nn.Module):\n",
    "    def __init__(self):\n",
    "        super(Net, self).__init__()\n",
    "        self.conv1 = nn.Conv2d(1, 10, kernel_size=5)\n",
    "        self.conv2 = nn.Conv2d(10, 20, kernel_size=5)\n",
    "        self.conv2_drop = nn.Dropout2d()\n",
    "        self.fc1 = nn.Linear(320, 50)\n",
    "        self.fc2 = nn.Linear(50, 10)\n",
    "\n",
    "    def forward(self, x):\n",
    "        x = F.relu(F.max_pool2d(self.conv1(x), 2))\n",
    "        x = F.relu(F.max_pool2d(self.conv2_drop(self.conv2(x)), 2))\n",
    "        x = x.view(-1, 320)\n",
    "        x = F.relu(self.fc1(x))\n",
    "        x = F.dropout(x, training=self.training)\n",
    "        x = self.fc2(x)\n",
    "        return F.log_softmax(x)"
   ]
  },
  {
   "cell_type": "code",
   "execution_count": 7,
   "metadata": {},
   "outputs": [],
   "source": [
    "model = Net()\n",
    "optimizer = optim.Adam(model.parameters(), lr=0.001)"
   ]
  },
  {
   "cell_type": "code",
   "execution_count": 11,
   "metadata": {
    "collapsed": true
   },
   "outputs": [],
   "source": [
    "def train(epoch):\n",
    "    \n",
    "    model.train()\n",
    "    \n",
    "    for batch_idx, (data, target) in enumerate(train_loader):\n",
    "        \n",
    "        data, target = Variable(data), Variable(target)\n",
    "        optimizer.zero_grad()\n",
    "        # forward pass\n",
    "        # here we could do different things on each pass...\n",
    "        output = model(data)\n",
    "        \n",
    "        loss = F.nll_loss(output, target)\n",
    "        # backward pass\n",
    "        loss.backward()\n",
    "        optimizer.step()\n",
    "        \n",
    "        if batch_idx % 100 == 0:\n",
    "            print('Train Epoch: {} [{}/{} ({:.0f}%)]\\tLoss: {:.6f}'.format(\n",
    "                epoch, batch_idx * len(data), len(train_loader.dataset),\n",
    "                100. * batch_idx / len(train_loader), loss.data[0]))"
   ]
  },
  {
   "cell_type": "code",
   "execution_count": 17,
   "metadata": {
    "collapsed": true
   },
   "outputs": [],
   "source": [
    "def test():\n",
    "    \n",
    "    model.eval()\n",
    "    \n",
    "    test_loss = 0\n",
    "    correct = 0\n",
    "    for data, target in test_loader:\n",
    "        data, target = Variable(data, volatile=True), Variable(target)\n",
    "        output = model(data)\n",
    "        test_loss += F.nll_loss(output, target, size_average=False).data[0] # sum up batch loss\n",
    "        pred = output.data.max(1)[1] # get the index of the max log-probability\n",
    "        correct += pred.eq(target.data.view_as(pred)).cpu().sum()\n",
    "\n",
    "    test_loss /= len(test_loader.dataset)\n",
    "    \n",
    "    print('\\nTest set: Average loss: {:.4f}, Accuracy: {}/{} ({:.0f}%)\\n'.format(test_loss, correct, len(test_loader.dataset),\n",
    "100. * correct / len(test_loader.dataset)))"
   ]
  },
  {
   "cell_type": "code",
   "execution_count": 14,
   "metadata": {},
   "outputs": [
    {
     "name": "stdout",
     "output_type": "stream",
     "text": [
      "Train Epoch: 1 [0/60000 (0%)]\tLoss: 0.511529\n",
      "Train Epoch: 1 [10000/60000 (17%)]\tLoss: 0.451241\n",
      "Train Epoch: 1 [20000/60000 (33%)]\tLoss: 0.390450\n",
      "Train Epoch: 1 [30000/60000 (50%)]\tLoss: 0.313467\n",
      "Train Epoch: 1 [40000/60000 (67%)]\tLoss: 0.381461\n",
      "Train Epoch: 1 [50000/60000 (83%)]\tLoss: 0.174842\n",
      "Train Epoch: 2 [0/60000 (0%)]\tLoss: 0.223850\n",
      "Train Epoch: 2 [10000/60000 (17%)]\tLoss: 0.182294\n",
      "Train Epoch: 2 [20000/60000 (33%)]\tLoss: 0.247559\n",
      "Train Epoch: 2 [30000/60000 (50%)]\tLoss: 0.249502\n",
      "Train Epoch: 2 [40000/60000 (67%)]\tLoss: 0.183726\n",
      "Train Epoch: 2 [50000/60000 (83%)]\tLoss: 0.245014\n",
      "Train Epoch: 3 [0/60000 (0%)]\tLoss: 0.193560\n",
      "Train Epoch: 3 [10000/60000 (17%)]\tLoss: 0.163272\n",
      "Train Epoch: 3 [20000/60000 (33%)]\tLoss: 0.127575\n",
      "Train Epoch: 3 [30000/60000 (50%)]\tLoss: 0.278933\n",
      "Train Epoch: 3 [40000/60000 (67%)]\tLoss: 0.173020\n",
      "Train Epoch: 3 [50000/60000 (83%)]\tLoss: 0.082528\n",
      "Train Epoch: 4 [0/60000 (0%)]\tLoss: 0.290670\n",
      "Train Epoch: 4 [10000/60000 (17%)]\tLoss: 0.208253\n",
      "Train Epoch: 4 [20000/60000 (33%)]\tLoss: 0.148415\n",
      "Train Epoch: 4 [30000/60000 (50%)]\tLoss: 0.210986\n",
      "Train Epoch: 4 [40000/60000 (67%)]\tLoss: 0.305453\n",
      "Train Epoch: 4 [50000/60000 (83%)]\tLoss: 0.127873\n",
      "Train Epoch: 5 [0/60000 (0%)]\tLoss: 0.169787\n",
      "Train Epoch: 5 [10000/60000 (17%)]\tLoss: 0.187333\n",
      "Train Epoch: 5 [20000/60000 (33%)]\tLoss: 0.257931\n",
      "Train Epoch: 5 [30000/60000 (50%)]\tLoss: 0.135334\n",
      "Train Epoch: 5 [40000/60000 (67%)]\tLoss: 0.072006\n",
      "Train Epoch: 5 [50000/60000 (83%)]\tLoss: 0.329194\n",
      "Train Epoch: 6 [0/60000 (0%)]\tLoss: 0.258473\n",
      "Train Epoch: 6 [10000/60000 (17%)]\tLoss: 0.288885\n",
      "Train Epoch: 6 [20000/60000 (33%)]\tLoss: 0.232294\n",
      "Train Epoch: 6 [30000/60000 (50%)]\tLoss: 0.136991\n",
      "Train Epoch: 6 [40000/60000 (67%)]\tLoss: 0.155997\n",
      "Train Epoch: 6 [50000/60000 (83%)]\tLoss: 0.069659\n",
      "Train Epoch: 7 [0/60000 (0%)]\tLoss: 0.110111\n",
      "Train Epoch: 7 [10000/60000 (17%)]\tLoss: 0.154511\n",
      "Train Epoch: 7 [20000/60000 (33%)]\tLoss: 0.145871\n",
      "Train Epoch: 7 [30000/60000 (50%)]\tLoss: 0.128784\n",
      "Train Epoch: 7 [40000/60000 (67%)]\tLoss: 0.146515\n",
      "Train Epoch: 7 [50000/60000 (83%)]\tLoss: 0.147698\n",
      "Train Epoch: 8 [0/60000 (0%)]\tLoss: 0.130753\n",
      "Train Epoch: 8 [10000/60000 (17%)]\tLoss: 0.123205\n",
      "Train Epoch: 8 [20000/60000 (33%)]\tLoss: 0.110543\n",
      "Train Epoch: 8 [30000/60000 (50%)]\tLoss: 0.304389\n",
      "Train Epoch: 8 [40000/60000 (67%)]\tLoss: 0.204838\n",
      "Train Epoch: 8 [50000/60000 (83%)]\tLoss: 0.121965\n",
      "Train Epoch: 9 [0/60000 (0%)]\tLoss: 0.220064\n",
      "Train Epoch: 9 [10000/60000 (17%)]\tLoss: 0.116619\n",
      "Train Epoch: 9 [20000/60000 (33%)]\tLoss: 0.137629\n",
      "Train Epoch: 9 [30000/60000 (50%)]\tLoss: 0.131342\n",
      "Train Epoch: 9 [40000/60000 (67%)]\tLoss: 0.036306\n",
      "Train Epoch: 9 [50000/60000 (83%)]\tLoss: 0.161886\n"
     ]
    }
   ],
   "source": [
    "for epoch in range(1, 10):\n",
    "    train(epoch)"
   ]
  },
  {
   "cell_type": "code",
   "execution_count": 18,
   "metadata": {},
   "outputs": [
    {
     "name": "stdout",
     "output_type": "stream",
     "text": [
      "\n",
      "Test set: Average loss: 0.0406, Accuracy: 9884/10000 (99%)\n",
      "\n"
     ]
    }
   ],
   "source": [
    "test()"
   ]
  },
  {
   "cell_type": "code",
   "execution_count": null,
   "metadata": {
    "collapsed": true
   },
   "outputs": [],
   "source": []
  }
 ],
 "metadata": {
  "kernelspec": {
   "display_name": "Python 3",
   "language": "python",
   "name": "python3"
  },
  "language_info": {
   "codemirror_mode": {
    "name": "ipython",
    "version": 3
   },
   "file_extension": ".py",
   "mimetype": "text/x-python",
   "name": "python",
   "nbconvert_exporter": "python",
   "pygments_lexer": "ipython3",
   "version": "3.6.1"
  }
 },
 "nbformat": 4,
 "nbformat_minor": 2
}
